{
 "cells": [
  {
   "cell_type": "markdown",
   "metadata": {},
   "source": [
    "# Mean, Median & Mode\n",
    "Mean - The average value  \n",
    "Median - The mid point value  \n",
    "Mode - The most common value  "
   ]
  },
  {
   "cell_type": "code",
   "execution_count": 12,
   "metadata": {},
   "outputs": [],
   "source": [
    "speed = [99,86,87,88,111,86,103,87,94,78,77,85,86] "
   ]
  },
  {
   "cell_type": "code",
   "execution_count": 13,
   "metadata": {},
   "outputs": [
    {
     "name": "stdout",
     "output_type": "stream",
     "text": [
      "89.76923076923077\n",
      "89.76923076923077\n"
     ]
    }
   ],
   "source": [
    "\n",
    "# mean\n",
    "mean = sum([x for x in speed]) / len(speed)\n",
    "print(mean)\n",
    "\n",
    "# using numpy\n",
    "import numpy as np\n",
    "mean = np.mean(speed)\n",
    "\n",
    "print(mean)"
   ]
  },
  {
   "cell_type": "code",
   "execution_count": 14,
   "metadata": {},
   "outputs": [
    {
     "name": "stdout",
     "output_type": "stream",
     "text": [
      "87\n",
      "87.0\n",
      "87\n"
     ]
    }
   ],
   "source": [
    "# median - implementing median function from scratch\n",
    "# to find the median, start by sorting the values\n",
    "def find_median(data: list) -> float:\n",
    "    data = sorted(data)\n",
    "\n",
    "    if len(data) % 2 == 1: # length is odd\n",
    "        median = data[len(data) // 2]\n",
    "        return median\n",
    "    else: # length is even, return average of two middle values\n",
    "        mid1 = data[len(data) // 2 - 1]\n",
    "        mid2 = data[len(data) // 2]\n",
    "\n",
    "        median = (mid1 + mid2) / 2\n",
    "\n",
    "        return median\n",
    "    \n",
    "median = find_median(speed)\n",
    "print(median)\n",
    "\n",
    "# median - using numpy module\n",
    "import numpy as np\n",
    "median = np.median(speed)\n",
    "print(median)\n",
    "\n",
    "\n",
    "# median - using the statictics module\n",
    "import statistics\n",
    "median = statistics.median(speed)\n",
    "print(median)\n"
   ]
  },
  {
   "cell_type": "code",
   "execution_count": 15,
   "metadata": {},
   "outputs": [
    {
     "name": "stdout",
     "output_type": "stream",
     "text": [
      "[86]\n"
     ]
    },
    {
     "name": "stderr",
     "output_type": "stream",
     "text": [
      "C:\\Users\\njoro\\AppData\\Local\\Temp\\ipykernel_3412\\3177881643.py:25: FutureWarning: Unlike other reduction functions (e.g. `skew`, `kurtosis`), the default behavior of `mode` typically preserves the axis it acts along. In SciPy 1.11.0, this behavior will change: the default value of `keepdims` will become False, the `axis` over which the statistic is taken will be eliminated, and the value None will no longer be accepted. Set `keepdims` to True or False to avoid this warning.\n",
      "  mode = stats.mode(speed).mode\n"
     ]
    }
   ],
   "source": [
    "# mode\n",
    "# implementing mode function from scratch\n",
    "def find_mode(data: list)->list:\n",
    "    counts = {}\n",
    "    for i in data:\n",
    "        count = data.count(i)\n",
    "\n",
    "        counts[i] = count\n",
    "    count = [i for i in counts.values()]\n",
    "    max_count= max(count)\n",
    "    mode = []\n",
    "    for key, val in counts.items():\n",
    "        if val == max_count:\n",
    "            mode.append(key)\n",
    "\n",
    "    return mode\n",
    "\n",
    "\n",
    "find_mode(speed)\n",
    "\n",
    "\n",
    "# mode -> using Scipy module\n",
    "from scipy import stats\n",
    "\n",
    "mode = stats.mode(speed).mode\n",
    "print(mode)\n",
    "\n"
   ]
  }
 ],
 "metadata": {
  "kernelspec": {
   "display_name": "base",
   "language": "python",
   "name": "python3"
  },
  "language_info": {
   "codemirror_mode": {
    "name": "ipython",
    "version": 3
   },
   "file_extension": ".py",
   "mimetype": "text/x-python",
   "name": "python",
   "nbconvert_exporter": "python",
   "pygments_lexer": "ipython3",
   "version": "3.11.4"
  },
  "orig_nbformat": 4
 },
 "nbformat": 4,
 "nbformat_minor": 2
}
